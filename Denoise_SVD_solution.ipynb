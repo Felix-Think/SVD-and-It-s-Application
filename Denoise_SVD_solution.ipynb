{
  "nbformat": 4,
  "nbformat_minor": 0,
  "metadata": {
    "colab": {
      "private_outputs": true,
      "provenance": []
    },
    "kernelspec": {
      "name": "python3",
      "display_name": "Python 3"
    },
    "language_info": {
      "name": "python"
    }
  },
  "cells": [
    {
      "cell_type": "markdown",
      "source": [
        "#NOISE REDUCTION WITH SVD\n",
        "Remove all unimportant concept simply by changing  the value of S to 0 with are smaller than some threshold?"
      ],
      "metadata": {
        "id": "UQvId3OsWEsn"
      }
    },
    {
      "cell_type": "code",
      "source": [
        "import numpy as np\n",
        "import cv2\n",
        "import matplotlib.pyplot as plt"
      ],
      "metadata": {
        "id": "gJdqHTp-bNkY"
      },
      "execution_count": null,
      "outputs": []
    },
    {
      "cell_type": "code",
      "execution_count": null,
      "metadata": {
        "id": "_DWTRodbMdrv"
      },
      "outputs": [],
      "source": [
        "#Add Gaussian noise to input inmage\n",
        "def addNoiseToImage(image, mean = 0, stddev = 25):\n",
        "    #uncomment the following three lines of code for another project\n",
        "    noise = np.random.normal(mean, stddev, image.shape)\n",
        "    noise = np.where(noise > 0 , np.around(noise), 0)\n",
        "    noise = noise.astype(np.uint8)\n",
        "    np.save('noise.npy', noise)\n",
        "    noise = np.load('/content/noise.npy')\n",
        "    noise = noise.astype(np.uint8)\n",
        "\n",
        "    #add Noise to Image\n",
        "    noise_img = cv2.add(noise, image)\n",
        "    return noise_img"
      ]
    },
    {
      "cell_type": "code",
      "source": [],
      "metadata": {
        "id": "9XI9XJkptqAE"
      },
      "execution_count": null,
      "outputs": []
    },
    {
      "cell_type": "code",
      "source": [
        "def convertColortoGrayScale(image, ratio_gray_scale):\n",
        "    gray_image = image @ ratio_gray_scale\n",
        "    return np.around(gray_image).astype(np.uint8)"
      ],
      "metadata": {
        "id": "hkUuDZNJZAlX"
      },
      "execution_count": null,
      "outputs": []
    },
    {
      "cell_type": "code",
      "source": [
        "#Quesntion 7\n",
        "from google.colab.patches import cv2_imshow\n",
        "color_image = cv2.imread('/content/cat.jpeg')\n",
        "color_image = cv2.resize(color_image, (300, 300))\n",
        "ratio_gray_scale = [0.2126, 0.7125, 0.0722 ]\n",
        "gray_image = convertColortoGrayScale(color_image, ratio_gray_scale)\n",
        "noise_image = addNoiseToImage(gray_image)\n",
        "avg_org = np.sum(gray_image) / (gray_image.shape[0] * gray_image.shape[1])\n",
        "avg_noise = np.sum(noise_image) / (noise_image.shape[0] * noise_image.shape[1])\n",
        "print(\"avg_org\", avg_org)\n",
        "print(\"avg_noise\", avg_noise)"
      ],
      "metadata": {
        "id": "xEpNhv4kYX3B"
      },
      "execution_count": null,
      "outputs": []
    },
    {
      "cell_type": "code",
      "source": [
        "def perform_image_denoise(noise_image, threshold):\n",
        "    #Caculate U, S, V_T\n",
        "    u, s, vt = np.linalg.svd(noise_image)\n",
        "    #Remove sigma values below threshold\n",
        "    s_cleaned = np.where(s > threshold, s, 0)\n",
        "    s_cleaned = np.diag(s_cleaned)\n",
        "    img_denoise = u @ s_cleaned @ vt\n",
        "    # Instead of using @ to find img_denoise, Is it possible to use dot and the\n",
        "    # broadcast porperty of np to calculate u * s\n",
        "    img_denoised = np.array(np.dot((u * s_cleaned), vt)).astype('uint8')\n",
        "    return img_denoise # OR img_denoised\n",
        "\n"
      ],
      "metadata": {
        "id": "G3jb6LkXaCaI"
      },
      "execution_count": null,
      "outputs": []
    },
    {
      "cell_type": "code",
      "source": [
        "def computeCosineSimilarity(img1, img2):\n",
        "    img1 = img1.flatten()\n",
        "    img2 = img2.flatten()\n",
        "    cosine_similarity = img1.dot(img2) / (np.linalg.norm(img1) * np.linalg.norm(img2))\n",
        "    return cosine_similarity"
      ],
      "metadata": {
        "id": "Tm8leExrfT-K"
      },
      "execution_count": null,
      "outputs": []
    },
    {
      "cell_type": "code",
      "source": [
        "def compute_mean_squared_error(img1, img2):\n",
        "    return np.sqrt(np.sum(np.square(img1, img2)) / (img1.shape[0] * img1.shape[1]))"
      ],
      "metadata": {
        "id": "4Xygf369fwWS"
      },
      "execution_count": null,
      "outputs": []
    },
    {
      "cell_type": "code",
      "source": [
        "def find_best_sigma_image_denoise(noise_image, orignal_image, metric = 0, sigma_range= 1000):\n",
        "    #Caculate U , S, V_T\n",
        "    u, s, vt = np.linalg.svd(noise_image)\n",
        "\n",
        "    #Select the best threshold that has minimum error RMS\n",
        "    evaluation_history = []\n",
        "    for i in range(1, sigma_range):\n",
        "        s_cleaned = np.where(s > i, s, 0)\n",
        "        image_denoised = np.array(np.dot((u * s_cleaned), vt), dtype=int)\n",
        "\n",
        "        if metric == 0:\n",
        "            similarity = computeCosineSimilarity(image_denoised, orignal_image)\n",
        "            evaluation_history.append(similarity)\n",
        "        else:\n",
        "            image_denoised = image_denoised.astype(np.uint8)\n",
        "            orignal_image = orignal_image.astype(np.uint8)\n",
        "            error = compute_mean_squared_error(image_denoised, orignal_image)\n",
        "            evaluation_history.append(error)\n",
        "    if metric == 0:\n",
        "        best_sigma = evaluation_history.index(max(evaluation_history))\n",
        "    else:\n",
        "        best_sigma = evaluation_history.index(min(evaluation_history))\n",
        "    return best_sigma, evaluation_history\n",
        "\n"
      ],
      "metadata": {
        "id": "4Pof4U53c4_X"
      },
      "execution_count": null,
      "outputs": []
    },
    {
      "cell_type": "code",
      "source": [
        "def main_application(metric, sigma_range):\n",
        "    #Read color image\n",
        "    color_image = cv2.imread('/content/cat.jpeg')\n",
        "\n",
        "    #Resize color image tp(300, 300)\n",
        "    color_image= cv2.resize(color_image, (300, 300))\n",
        "    #convert Image to Grayscale\n",
        "    ratio_gray_scale = [0.2126, 0.7125, 0.0722 ]\n",
        "    gray_image = convertColortoGrayScale(color_image, ratio_gray_scale)\n",
        "\n",
        "    #Save resized grayscale image to file gray_image.png\n",
        "    cv2.imwrite('gray_image.png', gray_image)\n",
        "\n",
        "    #Add Gauusion noise to gray image\n",
        "    noise_gray_image = addNoiseToImage(gray_image)\n",
        "\n",
        "    #Save noise grayscale image to file noise_gray_image.png\n",
        "    cv2.imwrite('noise_gray_image.png', noise_gray_image)\n",
        "\n",
        "    best_threshold, evaluation_history = find_best_sigma_image_denoise(noise_gray_image, gray_image, metric, sigma_range)\n",
        "    print(\"best_threshold\", best_threshold)\n",
        "    denoise_image = perform_image_denoise(noise_gray_image, best_threshold)\n",
        "    cv2.imwrite('denoise_image.png', denoise_image)\n",
        "    plt.plot(evaluation_history)\n",
        "    plt.xlabel('Threshold')\n",
        "    if metric == 0:\n",
        "        plt.ylabel('Cosine Similarity')\n",
        "    else:\n",
        "        plt.ylabel('RMS')\n",
        "\n",
        "    plt.title('Evaluation History')\n",
        "    plt.show()\n"
      ],
      "metadata": {
        "id": "5kisYTyJgZgM"
      },
      "execution_count": null,
      "outputs": []
    },
    {
      "cell_type": "code",
      "source": [
        "main_application(0, 1200)"
      ],
      "metadata": {
        "id": "aiU2MhKLjv-9"
      },
      "execution_count": null,
      "outputs": []
    },
    {
      "cell_type": "code",
      "source": [
        "#Show image after and before denoise\n",
        "cv2_imshow(cv2.imread('/content/denoise_image.png'))\n",
        "cv2_imshow(cv2.imread('/content/noise_gray_image.png'))"
      ],
      "metadata": {
        "id": "kzXfTlcpjytS"
      },
      "execution_count": null,
      "outputs": []
    },
    {
      "cell_type": "markdown",
      "source": [],
      "metadata": {
        "id": "7j8lwn29ljWL"
      }
    }
  ]
}